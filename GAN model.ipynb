{
 "cells": [
  {
   "cell_type": "code",
   "execution_count": 2,
   "metadata": {
    "colab": {},
    "colab_type": "code",
    "executionInfo": {
     "elapsed": 1050,
     "status": "ok",
     "timestamp": 1598960100455,
     "user": {
      "displayName": "Отброс в декадансе",
      "photoUrl": "https://lh3.googleusercontent.com/a-/AOh14GhaQxCkTvE0rTBA75-AluBRnN4IDmIZK6gRcKimQA=s64",
      "userId": "07818439466985286104"
     },
     "user_tz": -180
    },
    "id": "5Velc40rBpU8"
   },
   "outputs": [],
   "source": [
    "from pathlib import Path\n",
    "from PIL import Image\n",
    "import itertools\n",
    "import os\n",
    "\n",
    "import torch\n",
    "from torch.utils.data import Dataset, DataLoader\n",
    "from torchvision import datasets,transforms\n",
    "import torch.nn as nn\n",
    "from tqdm.notebook import tqdm\n",
    "\n",
    "import matplotlib.pyplot as plt\n",
    "import numpy as np"
   ]
  },
  {
   "cell_type": "code",
   "execution_count": 3,
   "metadata": {
    "colab": {},
    "colab_type": "code",
    "executionInfo": {
     "elapsed": 1018,
     "status": "ok",
     "timestamp": 1598960100458,
     "user": {
      "displayName": "Отброс в декадансе",
      "photoUrl": "https://lh3.googleusercontent.com/a-/AOh14GhaQxCkTvE0rTBA75-AluBRnN4IDmIZK6gRcKimQA=s64",
      "userId": "07818439466985286104"
     },
     "user_tz": -180
    },
    "id": "7dBgSUbOBpVH"
   },
   "outputs": [],
   "source": [
    "batch_size=128\n",
    "transform = transforms.Compose([transforms.ToTensor(), transforms.Normalize([0.5], [0.5])])\n",
    "dataload = DataLoader(datasets.MNIST(\"./\", train=True, download=True, transform=transform),\n",
    "                      batch_size=batch_size,\n",
    "                      shuffle=True,\n",
    "                      drop_last=True)"
   ]
  },
  {
   "cell_type": "code",
   "execution_count": 4,
   "metadata": {
    "colab": {},
    "colab_type": "code",
    "executionInfo": {
     "elapsed": 1011,
     "status": "ok",
     "timestamp": 1598960100460,
     "user": {
      "displayName": "Отброс в декадансе",
      "photoUrl": "https://lh3.googleusercontent.com/a-/AOh14GhaQxCkTvE0rTBA75-AluBRnN4IDmIZK6gRcKimQA=s64",
      "userId": "07818439466985286104"
     },
     "user_tz": -180
    },
    "id": "DRkjh5V1BpVR"
   },
   "outputs": [],
   "source": [
    "class Generator(nn.Module):\n",
    "    \n",
    "    def __init__(self):\n",
    "        \n",
    "        super(Generator, self).__init__()\n",
    "        \n",
    "        self.img_rows = 28\n",
    "        self.img_cols = 28\n",
    "        self.channels = 1\n",
    "        self.img_shape = (self.channels,self.img_rows,self.img_cols)\n",
    "        self.latent_dim = 128\n",
    "        \n",
    "        net = []\n",
    "        \n",
    "        for i in range(1,4):\n",
    "            \n",
    "            net.append(nn.Linear(self.latent_dim*2**(i-1), self.latent_dim*2**i))\n",
    "            net.append(nn.LeakyReLU(0.2, inplace=True))\n",
    "            net.append(nn.BatchNorm1d(self.latent_dim*2**i,0.8))\n",
    "            \n",
    "        net.append(nn.Linear(1024, np.prod(self.img_shape)))\n",
    "        net.append(nn.Tanh())\n",
    "        \n",
    "        self.model = nn.Sequential(*net)\n",
    "\n",
    "\n",
    "    def forward(self, noise):\n",
    "        img = self.model(noise)\n",
    "        return img.view(img.size(0), *self.img_shape)"
   ]
  },
  {
   "cell_type": "code",
   "execution_count": 5,
   "metadata": {
    "colab": {},
    "colab_type": "code",
    "executionInfo": {
     "elapsed": 991,
     "status": "ok",
     "timestamp": 1598960100461,
     "user": {
      "displayName": "Отброс в декадансе",
      "photoUrl": "https://lh3.googleusercontent.com/a-/AOh14GhaQxCkTvE0rTBA75-AluBRnN4IDmIZK6gRcKimQA=s64",
      "userId": "07818439466985286104"
     },
     "user_tz": -180
    },
    "id": "I7oaxaOsBpVZ"
   },
   "outputs": [],
   "source": [
    "class Discriminator(nn.Module):\n",
    "    \n",
    "    def __init__(self):\n",
    "        \n",
    "        super(Discriminator, self).__init__()\n",
    "        \n",
    "        self.img_rows = 28\n",
    "        self.img_cols = 28\n",
    "        self.channels = 1\n",
    "        self.img_shape = (self.channels,self.img_rows,self.img_cols)\n",
    "        \n",
    "        self.model = nn.Sequential(\n",
    "            nn.Linear(np.prod(self.img_shape), 512),\n",
    "            nn.LeakyReLU(0.2, inplace=True),\n",
    "            nn.Linear(512, 256),\n",
    "            nn.Dropout(0.5),\n",
    "            nn.LeakyReLU(0.2, inplace=True),\n",
    "            nn.Linear(256, 1),\n",
    "            nn.Sigmoid()\n",
    "        )\n",
    "\n",
    "    def forward(self, img):\n",
    "        img = img.view(img.size(0), -1)\n",
    "        return self.model(img)"
   ]
  },
  {
   "cell_type": "code",
   "execution_count": 6,
   "metadata": {
    "colab": {},
    "colab_type": "code",
    "executionInfo": {
     "elapsed": 4663,
     "status": "ok",
     "timestamp": 1598960104140,
     "user": {
      "displayName": "Отброс в декадансе",
      "photoUrl": "https://lh3.googleusercontent.com/a-/AOh14GhaQxCkTvE0rTBA75-AluBRnN4IDmIZK6gRcKimQA=s64",
      "userId": "07818439466985286104"
     },
     "user_tz": -180
    },
    "id": "xPkRfYHCBpVe"
   },
   "outputs": [],
   "source": [
    "device = torch.device(\"cuda\" if torch.cuda.is_available() else \"cpu\")\n",
    "\n",
    "G = Generator().to(device)\n",
    "D = Discriminator().to(device)"
   ]
  },
  {
   "cell_type": "code",
   "execution_count": 7,
   "metadata": {
    "colab": {},
    "colab_type": "code",
    "executionInfo": {
     "elapsed": 4655,
     "status": "ok",
     "timestamp": 1598960104144,
     "user": {
      "displayName": "Отброс в декадансе",
      "photoUrl": "https://lh3.googleusercontent.com/a-/AOh14GhaQxCkTvE0rTBA75-AluBRnN4IDmIZK6gRcKimQA=s64",
      "userId": "07818439466985286104"
     },
     "user_tz": -180
    },
    "id": "XYVGL4noBpVk"
   },
   "outputs": [],
   "source": [
    "optimizer_G = torch.optim.Adam(G.parameters(), lr=2e-4, betas=(0.5, 0.999))\n",
    "optimizer_D = torch.optim.Adam(D.parameters(), lr=2e-4, betas=(0.5, 0.999))"
   ]
  },
  {
   "cell_type": "code",
   "execution_count": 8,
   "metadata": {
    "colab": {},
    "colab_type": "code",
    "executionInfo": {
     "elapsed": 4642,
     "status": "ok",
     "timestamp": 1598960104145,
     "user": {
      "displayName": "Отброс в декадансе",
      "photoUrl": "https://lh3.googleusercontent.com/a-/AOh14GhaQxCkTvE0rTBA75-AluBRnN4IDmIZK6gRcKimQA=s64",
      "userId": "07818439466985286104"
     },
     "user_tz": -180
    },
    "id": "HVMnkC9GBpVn"
   },
   "outputs": [],
   "source": [
    "loss = torch.nn.BCELoss().to(device)"
   ]
  },
  {
   "cell_type": "code",
   "execution_count": 9,
   "metadata": {
    "colab": {},
    "colab_type": "code",
    "executionInfo": {
     "elapsed": 4634,
     "status": "ok",
     "timestamp": 1598960104146,
     "user": {
      "displayName": "Отброс в декадансе",
      "photoUrl": "https://lh3.googleusercontent.com/a-/AOh14GhaQxCkTvE0rTBA75-AluBRnN4IDmIZK6gRcKimQA=s64",
      "userId": "07818439466985286104"
     },
     "user_tz": -180
    },
    "id": "2XOtcWspBpVu"
   },
   "outputs": [],
   "source": [
    "def img_samples(G,epoch):\n",
    "    \n",
    "    unloader = transforms.ToPILImage()\n",
    "    noise = torch.FloatTensor(np.random.normal(0, 1, (batch_size, 128))).cuda()\n",
    "    plt.figure(figsize=(10,10))\n",
    "    new_imgs = G(noise).cpu()\n",
    "    \n",
    "    for i in range(36):\n",
    "        plt.subplot(6,6,i+1)\n",
    "        img = unloader(new_imgs.data[i])\n",
    "        plt.imshow(img, cmap='gist_gray')\n",
    "        plt.axis('off')\n",
    "        \n",
    "    plt.savefig(\"/images/img_%i.png\"%epoch)\n",
    "    plt.close()"
   ]
  },
  {
   "cell_type": "code",
   "execution_count": 10,
   "metadata": {
    "colab": {},
    "colab_type": "code",
    "executionInfo": {
     "elapsed": 4625,
     "status": "ok",
     "timestamp": 1598960104154,
     "user": {
      "displayName": "Отброс в декадансе",
      "photoUrl": "https://lh3.googleusercontent.com/a-/AOh14GhaQxCkTvE0rTBA75-AluBRnN4IDmIZK6gRcKimQA=s64",
      "userId": "07818439466985286104"
     },
     "user_tz": -180
    },
    "id": "E8iEgX5lBpVx"
   },
   "outputs": [],
   "source": [
    "epoches = 100\n",
    "k = 1"
   ]
  },
  {
   "cell_type": "code",
   "execution_count": 11,
   "metadata": {
    "colab": {
     "base_uri": "https://localhost:8080/",
     "height": 236,
     "referenced_widgets": [
      "b61036f8da0b4a3993c3d8160c2912d6",
      "bb28e71fb40445a0bfafa028e74328ee",
      "a2c6368328914b10bedea7fc67184aaa",
      "89b6adbfd7694ec0954e69b30358cd58",
      "61dafb92a1ce4abd99fa586aa17dc018",
      "f9b1d0d9affa4086a3bb73a756ebf101",
      "5f5a41e003fb405da7a7b9c83361a007",
      "574bdda4d6654562985e053c91744f70"
     ]
    },
    "colab_type": "code",
    "executionInfo": {
     "elapsed": 1746532,
     "status": "ok",
     "timestamp": 1598961846073,
     "user": {
      "displayName": "Отброс в декадансе",
      "photoUrl": "https://lh3.googleusercontent.com/a-/AOh14GhaQxCkTvE0rTBA75-AluBRnN4IDmIZK6gRcKimQA=s64",
      "userId": "07818439466985286104"
     },
     "user_tz": -180
    },
    "id": "qvjhF7twBpV0",
    "outputId": "6b0765d8-39f6-4440-c9ae-161207a4dad1"
   },
   "outputs": [
    {
     "data": {
      "application/vnd.jupyter.widget-view+json": {
       "model_id": "53c2442890144ce788c890938d3b90e1",
       "version_major": 2,
       "version_minor": 0
      },
      "text/plain": [
       "HBox(children=(FloatProgress(value=0.0, description='Epoch', style=ProgressStyle(description_width='initial'))…"
      ]
     },
     "metadata": {},
     "output_type": "display_data"
    },
    {
     "name": "stdout",
     "output_type": "stream",
     "text": [
      "\n"
     ]
    },
    {
     "ename": "KeyboardInterrupt",
     "evalue": "",
     "output_type": "error",
     "traceback": [
      "\u001b[0;31m---------------------------------------------------------------------------\u001b[0m",
      "\u001b[0;31mKeyboardInterrupt\u001b[0m                         Traceback (most recent call last)",
      "\u001b[0;32m<ipython-input-11-95a46f8bca19>\u001b[0m in \u001b[0;36m<module>\u001b[0;34m\u001b[0m\n\u001b[1;32m     24\u001b[0m             \u001b[0md_loss\u001b[0m \u001b[0;34m=\u001b[0m \u001b[0mloss\u001b[0m\u001b[0;34m(\u001b[0m\u001b[0mD\u001b[0m\u001b[0;34m(\u001b[0m\u001b[0mreal\u001b[0m\u001b[0;34m)\u001b[0m\u001b[0;34m,\u001b[0m \u001b[0mvalid\u001b[0m\u001b[0;34m)\u001b[0m \u001b[0;34m+\u001b[0m \u001b[0mloss\u001b[0m\u001b[0;34m(\u001b[0m\u001b[0mD\u001b[0m\u001b[0;34m(\u001b[0m\u001b[0mgen\u001b[0m\u001b[0;34m.\u001b[0m\u001b[0mdetach\u001b[0m\u001b[0;34m(\u001b[0m\u001b[0;34m)\u001b[0m\u001b[0;34m)\u001b[0m\u001b[0;34m,\u001b[0m \u001b[0mfake\u001b[0m\u001b[0;34m)\u001b[0m\u001b[0;34m\u001b[0m\u001b[0;34m\u001b[0m\u001b[0m\n\u001b[1;32m     25\u001b[0m \u001b[0;34m\u001b[0m\u001b[0m\n\u001b[0;32m---> 26\u001b[0;31m             \u001b[0md_loss\u001b[0m\u001b[0;34m.\u001b[0m\u001b[0mbackward\u001b[0m\u001b[0;34m(\u001b[0m\u001b[0;34m)\u001b[0m\u001b[0;34m\u001b[0m\u001b[0;34m\u001b[0m\u001b[0m\n\u001b[0m\u001b[1;32m     27\u001b[0m             \u001b[0moptimizer_D\u001b[0m\u001b[0;34m.\u001b[0m\u001b[0mstep\u001b[0m\u001b[0;34m(\u001b[0m\u001b[0;34m)\u001b[0m\u001b[0;34m\u001b[0m\u001b[0;34m\u001b[0m\u001b[0m\n\u001b[1;32m     28\u001b[0m             \u001b[0md_loss_run\u001b[0m\u001b[0;34m.\u001b[0m\u001b[0mappend\u001b[0m\u001b[0;34m(\u001b[0m\u001b[0md_loss\u001b[0m\u001b[0;34m.\u001b[0m\u001b[0mitem\u001b[0m\u001b[0;34m(\u001b[0m\u001b[0;34m)\u001b[0m\u001b[0;34m)\u001b[0m\u001b[0;34m\u001b[0m\u001b[0;34m\u001b[0m\u001b[0m\n",
      "\u001b[0;32m/Library/Frameworks/Python.framework/Versions/3.8/lib/python3.8/site-packages/torch/tensor.py\u001b[0m in \u001b[0;36mbackward\u001b[0;34m(self, gradient, retain_graph, create_graph)\u001b[0m\n\u001b[1;32m    183\u001b[0m                 \u001b[0mproducts\u001b[0m\u001b[0;34m.\u001b[0m \u001b[0mDefaults\u001b[0m \u001b[0mto\u001b[0m\u001b[0;31m \u001b[0m\u001b[0;31m`\u001b[0m\u001b[0;31m`\u001b[0m\u001b[0;32mFalse\u001b[0m\u001b[0;31m`\u001b[0m\u001b[0;31m`\u001b[0m\u001b[0;34m.\u001b[0m\u001b[0;34m\u001b[0m\u001b[0;34m\u001b[0m\u001b[0m\n\u001b[1;32m    184\u001b[0m         \"\"\"\n\u001b[0;32m--> 185\u001b[0;31m         \u001b[0mtorch\u001b[0m\u001b[0;34m.\u001b[0m\u001b[0mautograd\u001b[0m\u001b[0;34m.\u001b[0m\u001b[0mbackward\u001b[0m\u001b[0;34m(\u001b[0m\u001b[0mself\u001b[0m\u001b[0;34m,\u001b[0m \u001b[0mgradient\u001b[0m\u001b[0;34m,\u001b[0m \u001b[0mretain_graph\u001b[0m\u001b[0;34m,\u001b[0m \u001b[0mcreate_graph\u001b[0m\u001b[0;34m)\u001b[0m\u001b[0;34m\u001b[0m\u001b[0;34m\u001b[0m\u001b[0m\n\u001b[0m\u001b[1;32m    186\u001b[0m \u001b[0;34m\u001b[0m\u001b[0m\n\u001b[1;32m    187\u001b[0m     \u001b[0;32mdef\u001b[0m \u001b[0mregister_hook\u001b[0m\u001b[0;34m(\u001b[0m\u001b[0mself\u001b[0m\u001b[0;34m,\u001b[0m \u001b[0mhook\u001b[0m\u001b[0;34m)\u001b[0m\u001b[0;34m:\u001b[0m\u001b[0;34m\u001b[0m\u001b[0;34m\u001b[0m\u001b[0m\n",
      "\u001b[0;32m/Library/Frameworks/Python.framework/Versions/3.8/lib/python3.8/site-packages/torch/autograd/__init__.py\u001b[0m in \u001b[0;36mbackward\u001b[0;34m(tensors, grad_tensors, retain_graph, create_graph, grad_variables)\u001b[0m\n\u001b[1;32m    123\u001b[0m         \u001b[0mretain_graph\u001b[0m \u001b[0;34m=\u001b[0m \u001b[0mcreate_graph\u001b[0m\u001b[0;34m\u001b[0m\u001b[0;34m\u001b[0m\u001b[0m\n\u001b[1;32m    124\u001b[0m \u001b[0;34m\u001b[0m\u001b[0m\n\u001b[0;32m--> 125\u001b[0;31m     Variable._execution_engine.run_backward(\n\u001b[0m\u001b[1;32m    126\u001b[0m         \u001b[0mtensors\u001b[0m\u001b[0;34m,\u001b[0m \u001b[0mgrad_tensors\u001b[0m\u001b[0;34m,\u001b[0m \u001b[0mretain_graph\u001b[0m\u001b[0;34m,\u001b[0m \u001b[0mcreate_graph\u001b[0m\u001b[0;34m,\u001b[0m\u001b[0;34m\u001b[0m\u001b[0;34m\u001b[0m\u001b[0m\n\u001b[1;32m    127\u001b[0m         allow_unreachable=True)  # allow_unreachable flag\n",
      "\u001b[0;31mKeyboardInterrupt\u001b[0m: "
     ]
    }
   ],
   "source": [
    "for epoch in tqdm(range(epoches), desc=\"Epoch\"):\n",
    "    \n",
    "    g_loss_run = []\n",
    "    d_loss_run = []\n",
    "    \n",
    "    for batch,i in dataload:\n",
    "        \n",
    "        real = batch.to(device)\n",
    "        noise = torch.FloatTensor(np.random.normal(0, 1, (batch_size, 128))).to(device)\n",
    "        gen = G(noise)\n",
    "\n",
    "        valid = torch.autograd.Variable(torch.Tensor(real.size(0), 1).fill_(1.0), requires_grad=False).to(device)\n",
    "        fake = torch.autograd.Variable(torch.Tensor(real.size(0), 1).fill_(0.0), requires_grad=False).to(device)\n",
    "\n",
    "        \"\"\"\n",
    "            Train Discriminator\n",
    "        \"\"\"\n",
    "        \n",
    "        for _ in range(k):\n",
    "            \n",
    "            D.train()\n",
    "            optimizer_D.zero_grad()\n",
    "            \n",
    "            d_loss = loss(D(real), valid) + loss(D(gen.detach()), fake)\n",
    "            \n",
    "            d_loss.backward()\n",
    "            optimizer_D.step()\n",
    "            d_loss_run.append(d_loss.item())\n",
    "            \n",
    "        \"\"\"\n",
    "            Train Generator\n",
    "        \"\"\"\n",
    "        \n",
    "        G.train()\n",
    "        optimizer_G.zero_grad()\n",
    "        \n",
    "        g_loss = loss(D(gen),valid)\n",
    "        #print(g_loss.item(), d_loss.item())\n",
    "            \n",
    "        g_loss.backward()\n",
    "        optimizer_G.step()\n",
    "        g_loss_run.append(g_loss.item())\n",
    "    \n",
    "    img_samples(G,epoch)\n",
    "    \n",
    "    if epoch % 10 == 0:\n",
    "        print(\"D loss: {0}\\t||\\tG loss: {1}\".format(np.mean(d_loss_run),np.mean(g_loss_run)))\n",
    "        torch.save(G, f'/saved_model/G_{epoch}.pth')\n",
    "        torch.save(D, f'/saved_model/D_{epoch}.pth')"
   ]
  },
  {
   "cell_type": "code",
   "execution_count": 32,
   "metadata": {
    "colab": {},
    "colab_type": "code",
    "executionInfo": {
     "elapsed": 634,
     "status": "ok",
     "timestamp": 1598962021115,
     "user": {
      "displayName": "Отброс в декадансе",
      "photoUrl": "https://lh3.googleusercontent.com/a-/AOh14GhaQxCkTvE0rTBA75-AluBRnN4IDmIZK6gRcKimQA=s64",
      "userId": "07818439466985286104"
     },
     "user_tz": -180
    },
    "id": "xR-JvTZdBpV9"
   },
   "outputs": [],
   "source": [
    "torch.save(G, f'/saved_model/G_{100}.pth')\n",
    "torch.save(D, f'/saved_model/D_{100}.pth')"
   ]
  },
  {
   "cell_type": "code",
   "execution_count": 23,
   "metadata": {
    "colab": {},
    "colab_type": "code",
    "executionInfo": {
     "elapsed": 1746485,
     "status": "ok",
     "timestamp": 1598961846076,
     "user": {
      "displayName": "Отброс в декадансе",
      "photoUrl": "https://lh3.googleusercontent.com/a-/AOh14GhaQxCkTvE0rTBA75-AluBRnN4IDmIZK6gRcKimQA=s64",
      "userId": "07818439466985286104"
     },
     "user_tz": -180
    },
    "id": "4cej4wWlBpV_"
   },
   "outputs": [],
   "source": [
    "path = '/Users/haru4me/Documents/Проекты/GAN/proj/images/'\n",
    "\n",
    "import imageio\n",
    "images = []\n",
    "for i in range(100):\n",
    "    images.append(imageio.imread(path+\"img_%i.png\"%i))\n",
    "imageio.mimsave(path+'MNIST_gen.gif', images)"
   ]
  },
  {
   "cell_type": "code",
   "execution_count": 47,
   "metadata": {
    "colab": {},
    "colab_type": "code",
    "executionInfo": {
     "elapsed": 1746471,
     "status": "ok",
     "timestamp": 1598961846076,
     "user": {
      "displayName": "Отброс в декадансе",
      "photoUrl": "https://lh3.googleusercontent.com/a-/AOh14GhaQxCkTvE0rTBA75-AluBRnN4IDmIZK6gRcKimQA=s64",
      "userId": "07818439466985286104"
     },
     "user_tz": -180
    },
    "id": "1xZ_FegjBpWB"
   },
   "outputs": [
    {
     "data": {
      "text/plain": [
       "Generator(\n",
       "  (model): Sequential(\n",
       "    (0): Linear(in_features=128, out_features=256, bias=True)\n",
       "    (1): LeakyReLU(negative_slope=0.2, inplace=True)\n",
       "    (2): BatchNorm1d(256, eps=0.8, momentum=0.1, affine=True, track_running_stats=True)\n",
       "    (3): Linear(in_features=256, out_features=512, bias=True)\n",
       "    (4): LeakyReLU(negative_slope=0.2, inplace=True)\n",
       "    (5): BatchNorm1d(512, eps=0.8, momentum=0.1, affine=True, track_running_stats=True)\n",
       "    (6): Linear(in_features=512, out_features=1024, bias=True)\n",
       "    (7): LeakyReLU(negative_slope=0.2, inplace=True)\n",
       "    (8): BatchNorm1d(1024, eps=0.8, momentum=0.1, affine=True, track_running_stats=True)\n",
       "    (9): Linear(in_features=1024, out_features=784, bias=True)\n",
       "    (10): Tanh()\n",
       "  )\n",
       ")"
      ]
     },
     "execution_count": 47,
     "metadata": {},
     "output_type": "execute_result"
    }
   ],
   "source": [
    "path = '/Users/haru4me/Documents/Проекты/GAN/proj/saved_model/G_ab_100.pth'\n",
    "G = torch.load(path,map_location=torch.device('cpu'))\n",
    "G.eval()"
   ]
  },
  {
   "cell_type": "code",
   "execution_count": 49,
   "metadata": {},
   "outputs": [
    {
     "data": {
      "text/plain": [
       "<matplotlib.image.AxesImage at 0x7fb9da35a7c0>"
      ]
     },
     "execution_count": 49,
     "metadata": {},
     "output_type": "execute_result"
    },
    {
     "data": {
      "image/png": "[encoded data removed]",
      "text/plain": [
       "<Figure size 432x288 with 1 Axes>"
      ]
     },
     "metadata": {
      "needs_background": "light"
     },
     "output_type": "display_data"
    }
   ],
   "source": [
    "noise = torch.FloatTensor(np.random.normal(0, 1, (batch_size, 128))).to(device)\n",
    "unloader = transforms.ToPILImage()\n",
    "\n",
    "plt.imshow(unloader(G(noise).cpu()[0]))"
   ]
  },
  {
   "cell_type": "code",
   "execution_count": null,
   "metadata": {},
   "outputs": [],
   "source": []
  },
  {
   "cell_type": "code",
   "execution_count": 62,
   "metadata": {},
   "outputs": [],
   "source": [
    "test = True\n",
    "\n",
    "if test == False:\n",
    "    dirr = \"train_imgs\"\n",
    "else:\n",
    "    dirr = \"test_imgs\""
   ]
  },
  {
   "cell_type": "code",
   "execution_count": null,
   "metadata": {},
   "outputs": [],
   "source": []
  }
 ],
 "metadata": {
  "accelerator": "GPU",
  "colab": {
   "collapsed_sections": [],
   "name": "GAN model.ipynb",
   "provenance": []
  },
  "kernelspec": {
   "display_name": "Python 3",
   "language": "python",
   "name": "python3"
  },
  "language_info": {
   "codemirror_mode": {
    "name": "ipython",
    "version": 3
   },
   "file_extension": ".py",
   "mimetype": "text/x-python",
   "name": "python",
   "nbconvert_exporter": "python",
   "pygments_lexer": "ipython3",
   "version": "3.8.5"
  },
  "widgets": {
   "application/vnd.jupyter.widget-state+json": {
    "574bdda4d6654562985e053c91744f70": {
     "model_module": "@jupyter-widgets/base",
     "model_name": "LayoutModel",
     "state": {
      "_model_module": "@jupyter-widgets/base",
      "_model_module_version": "1.2.0",
      "_model_name": "LayoutModel",
      "_view_count": null,
      "_view_module": "@jupyter-widgets/base",
      "_view_module_version": "1.2.0",
      "_view_name": "LayoutView",
      "align_content": null,
      "align_items": null,
      "align_self": null,
      "border": null,
      "bottom": null,
      "display": null,
      "flex": null,
      "flex_flow": null,
      "grid_area": null,
      "grid_auto_columns": null,
      "grid_auto_flow": null,
      "grid_auto_rows": null,
      "grid_column": null,
      "grid_gap": null,
      "grid_row": null,
      "grid_template_areas": null,
      "grid_template_columns": null,
      "grid_template_rows": null,
      "height": null,
      "justify_content": null,
      "justify_items": null,
      "left": null,
      "margin": null,
      "max_height": null,
      "max_width": null,
      "min_height": null,
      "min_width": null,
      "object_fit": null,
      "object_position": null,
      "order": null,
      "overflow": null,
      "overflow_x": null,
      "overflow_y": null,
      "padding": null,
      "right": null,
      "top": null,
      "visibility": null,
      "width": null
     }
    },
    "5f5a41e003fb405da7a7b9c83361a007": {
     "model_module": "@jupyter-widgets/controls",
     "model_name": "DescriptionStyleModel",
     "state": {
      "_model_module": "@jupyter-widgets/controls",
      "_model_module_version": "1.5.0",
      "_model_name": "DescriptionStyleModel",
      "_view_count": null,
      "_view_module": "@jupyter-widgets/base",
      "_view_module_version": "1.2.0",
      "_view_name": "StyleView",
      "description_width": ""
     }
    },
    "61dafb92a1ce4abd99fa586aa17dc018": {
     "model_module": "@jupyter-widgets/controls",
     "model_name": "ProgressStyleModel",
     "state": {
      "_model_module": "@jupyter-widgets/controls",
      "_model_module_version": "1.5.0",
      "_model_name": "ProgressStyleModel",
      "_view_count": null,
      "_view_module": "@jupyter-widgets/base",
      "_view_module_version": "1.2.0",
      "_view_name": "StyleView",
      "bar_color": null,
      "description_width": "initial"
     }
    },
    "89b6adbfd7694ec0954e69b30358cd58": {
     "model_module": "@jupyter-widgets/controls",
     "model_name": "HTMLModel",
     "state": {
      "_dom_classes": [],
      "_model_module": "@jupyter-widgets/controls",
      "_model_module_version": "1.5.0",
      "_model_name": "HTMLModel",
      "_view_count": null,
      "_view_module": "@jupyter-widgets/controls",
      "_view_module_version": "1.5.0",
      "_view_name": "HTMLView",
      "description": "",
      "description_tooltip": null,
      "layout": "IPY_MODEL_574bdda4d6654562985e053c91744f70",
      "placeholder": "​",
      "style": "IPY_MODEL_5f5a41e003fb405da7a7b9c83361a007",
      "value": " 100/100 [29:01&lt;00:00, 17.42s/it]"
     }
    },
    "a2c6368328914b10bedea7fc67184aaa": {
     "model_module": "@jupyter-widgets/controls",
     "model_name": "FloatProgressModel",
     "state": {
      "_dom_classes": [],
      "_model_module": "@jupyter-widgets/controls",
      "_model_module_version": "1.5.0",
      "_model_name": "FloatProgressModel",
      "_view_count": null,
      "_view_module": "@jupyter-widgets/controls",
      "_view_module_version": "1.5.0",
      "_view_name": "ProgressView",
      "bar_style": "success",
      "description": "Epoch: 100%",
      "description_tooltip": null,
      "layout": "IPY_MODEL_f9b1d0d9affa4086a3bb73a756ebf101",
      "max": 100,
      "min": 0,
      "orientation": "horizontal",
      "style": "IPY_MODEL_61dafb92a1ce4abd99fa586aa17dc018",
      "value": 100
     }
    },
    "b61036f8da0b4a3993c3d8160c2912d6": {
     "model_module": "@jupyter-widgets/controls",
     "model_name": "HBoxModel",
     "state": {
      "_dom_classes": [],
      "_model_module": "@jupyter-widgets/controls",
      "_model_module_version": "1.5.0",
      "_model_name": "HBoxModel",
      "_view_count": null,
      "_view_module": "@jupyter-widgets/controls",
      "_view_module_version": "1.5.0",
      "_view_name": "HBoxView",
      "box_style": "",
      "children": [
       "IPY_MODEL_a2c6368328914b10bedea7fc67184aaa",
       "IPY_MODEL_89b6adbfd7694ec0954e69b30358cd58"
      ],
      "layout": "IPY_MODEL_bb28e71fb40445a0bfafa028e74328ee"
     }
    },
    "bb28e71fb40445a0bfafa028e74328ee": {
     "model_module": "@jupyter-widgets/base",
     "model_name": "LayoutModel",
     "state": {
      "_model_module": "@jupyter-widgets/base",
      "_model_module_version": "1.2.0",
      "_model_name": "LayoutModel",
      "_view_count": null,
      "_view_module": "@jupyter-widgets/base",
      "_view_module_version": "1.2.0",
      "_view_name": "LayoutView",
      "align_content": null,
      "align_items": null,
      "align_self": null,
      "border": null,
      "bottom": null,
      "display": null,
      "flex": null,
      "flex_flow": null,
      "grid_area": null,
      "grid_auto_columns": null,
      "grid_auto_flow": null,
      "grid_auto_rows": null,
      "grid_column": null,
      "grid_gap": null,
      "grid_row": null,
      "grid_template_areas": null,
      "grid_template_columns": null,
      "grid_template_rows": null,
      "height": null,
      "justify_content": null,
      "justify_items": null,
      "left": null,
      "margin": null,
      "max_height": null,
      "max_width": null,
      "min_height": null,
      "min_width": null,
      "object_fit": null,
      "object_position": null,
      "order": null,
      "overflow": null,
      "overflow_x": null,
      "overflow_y": null,
      "padding": null,
      "right": null,
      "top": null,
      "visibility": null,
      "width": null
     }
    },
    "f9b1d0d9affa4086a3bb73a756ebf101": {
     "model_module": "@jupyter-widgets/base",
     "model_name": "LayoutModel",
     "state": {
      "_model_module": "@jupyter-widgets/base",
      "_model_module_version": "1.2.0",
      "_model_name": "LayoutModel",
      "_view_count": null,
      "_view_module": "@jupyter-widgets/base",
      "_view_module_version": "1.2.0",
      "_view_name": "LayoutView",
      "align_content": null,
      "align_items": null,
      "align_self": null,
      "border": null,
      "bottom": null,
      "display": null,
      "flex": null,
      "flex_flow": null,
      "grid_area": null,
      "grid_auto_columns": null,
      "grid_auto_flow": null,
      "grid_auto_rows": null,
      "grid_column": null,
      "grid_gap": null,
      "grid_row": null,
      "grid_template_areas": null,
      "grid_template_columns": null,
      "grid_template_rows": null,
      "height": null,
      "justify_content": null,
      "justify_items": null,
      "left": null,
      "margin": null,
      "max_height": null,
      "max_width": null,
      "min_height": null,
      "min_width": null,
      "object_fit": null,
      "object_position": null,
      "order": null,
      "overflow": null,
      "overflow_x": null,
      "overflow_y": null,
      "padding": null,
      "right": null,
      "top": null,
      "visibility": null,
      "width": null
     }
    }
   }
  }
 },
 "nbformat": 4,
 "nbformat_minor": 1
}
